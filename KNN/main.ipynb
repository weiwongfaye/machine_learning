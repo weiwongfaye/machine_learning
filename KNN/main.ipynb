{
 "cells": [
  {
   "cell_type": "code",
   "execution_count": 1,
   "id": "0cb72ec2-d1b6-4e5c-a9e3-d3b0e593584e",
   "metadata": {},
   "outputs": [],
   "source": [
    "import kNN"
   ]
  },
  {
   "cell_type": "code",
   "execution_count": 2,
   "id": "9ba9b470-6223-4cdd-a8a4-82a525cd79f1",
   "metadata": {},
   "outputs": [],
   "source": [
    "group, labels = kNN.createDataSet()"
   ]
  },
  {
   "cell_type": "code",
   "execution_count": 4,
   "id": "f1085be6-cf7e-480b-ae52-5c24a881e09b",
   "metadata": {},
   "outputs": [
    {
     "data": {
      "text/plain": [
       "array([[1. , 1.1],\n",
       "       [1. , 1. ],\n",
       "       [0. , 0. ],\n",
       "       [0. , 0.1]])"
      ]
     },
     "execution_count": 4,
     "metadata": {},
     "output_type": "execute_result"
    }
   ],
   "source": [
    "group"
   ]
  },
  {
   "cell_type": "code",
   "execution_count": 5,
   "id": "af12693c-451d-456b-8975-5654543da3db",
   "metadata": {},
   "outputs": [
    {
     "data": {
      "text/plain": [
       "['A', 'A', 'B', 'B']"
      ]
     },
     "execution_count": 5,
     "metadata": {},
     "output_type": "execute_result"
    }
   ],
   "source": [
    "labels"
   ]
  },
  {
   "cell_type": "code",
   "execution_count": 7,
   "id": "b85eaa52-9396-4341-b130-2b7696faa81e",
   "metadata": {},
   "outputs": [
    {
     "data": {
      "text/plain": [
       "(4, 2)"
      ]
     },
     "execution_count": 7,
     "metadata": {},
     "output_type": "execute_result"
    }
   ],
   "source": [
    "group.shape"
   ]
  },
  {
   "cell_type": "code",
   "execution_count": 8,
   "id": "423682ae-7fd2-4d55-82ad-02ad1cb00653",
   "metadata": {},
   "outputs": [],
   "source": [
    "from numpy import *"
   ]
  },
  {
   "cell_type": "code",
   "execution_count": 9,
   "id": "6e34c996-9e4f-41d3-bd15-cc8a2a7fb21c",
   "metadata": {},
   "outputs": [
    {
     "data": {
      "text/plain": [
       "array([4, 5, 6, 7, 4, 5, 6, 7, 4, 5, 6, 7])"
      ]
     },
     "execution_count": 9,
     "metadata": {},
     "output_type": "execute_result"
    }
   ],
   "source": [
    "tile([4,5,6,7], 3)"
   ]
  },
  {
   "cell_type": "code",
   "execution_count": 10,
   "id": "33ae9eb4-995c-4378-8adc-8869296c181e",
   "metadata": {},
   "outputs": [
    {
     "data": {
      "text/plain": [
       "array([[1. , 1.1],\n",
       "       [1. , 1. ],\n",
       "       [0. , 0. ],\n",
       "       [0. , 0.1]])"
      ]
     },
     "execution_count": 10,
     "metadata": {},
     "output_type": "execute_result"
    }
   ],
   "source": [
    "group"
   ]
  },
  {
   "cell_type": "code",
   "execution_count": 11,
   "id": "d4bd3b58-b57b-4808-a5ba-8cdf8616bf2d",
   "metadata": {},
   "outputs": [
    {
     "data": {
      "text/plain": [
       "(4, 2)"
      ]
     },
     "execution_count": 11,
     "metadata": {},
     "output_type": "execute_result"
    }
   ],
   "source": [
    "group.shape"
   ]
  },
  {
   "cell_type": "code",
   "execution_count": 12,
   "id": "922bb8c0-2512-4862-b9ac-82f6a7770ca6",
   "metadata": {},
   "outputs": [
    {
     "data": {
      "text/plain": [
       "(12,)"
      ]
     },
     "execution_count": 12,
     "metadata": {},
     "output_type": "execute_result"
    }
   ],
   "source": [
    "tile([4,5,6,7], 3).shape"
   ]
  },
  {
   "cell_type": "code",
   "execution_count": 58,
   "id": "5496c59f-c62a-4dcd-8415-2861b66e0b60",
   "metadata": {},
   "outputs": [],
   "source": [
    "dataSetSize = group.shape[0]\n",
    "diffMat = tile([2,0], (4,1)) - group"
   ]
  },
  {
   "cell_type": "code",
   "execution_count": 59,
   "id": "560922e7-ada2-4476-abce-15f04200e375",
   "metadata": {},
   "outputs": [
    {
     "data": {
      "text/plain": [
       "array([[ 1. , -1.1],\n",
       "       [ 1. , -1. ],\n",
       "       [ 2. ,  0. ],\n",
       "       [ 2. , -0.1]])"
      ]
     },
     "execution_count": 59,
     "metadata": {},
     "output_type": "execute_result"
    }
   ],
   "source": [
    "diffMat"
   ]
  },
  {
   "cell_type": "code",
   "execution_count": 60,
   "id": "20b2574a-6104-48e8-af37-6ef89b471829",
   "metadata": {},
   "outputs": [],
   "source": [
    "sqDiffMat = diffMat ** 2"
   ]
  },
  {
   "cell_type": "code",
   "execution_count": 61,
   "id": "736a927e-27ba-4ddc-b2eb-8654a2517c26",
   "metadata": {},
   "outputs": [
    {
     "data": {
      "text/plain": [
       "array([[1.  , 1.21],\n",
       "       [1.  , 1.  ],\n",
       "       [4.  , 0.  ],\n",
       "       [4.  , 0.01]])"
      ]
     },
     "execution_count": 61,
     "metadata": {},
     "output_type": "execute_result"
    }
   ],
   "source": [
    "sqDiffMat"
   ]
  },
  {
   "cell_type": "code",
   "execution_count": 62,
   "id": "c6d560f0-60ff-49a9-ab00-37c945ee0f70",
   "metadata": {},
   "outputs": [],
   "source": [
    "sqDistances = sqDiffMat.sum(axis = 1)"
   ]
  },
  {
   "cell_type": "code",
   "execution_count": 63,
   "id": "2f9e65d1-0041-4652-9f72-1730fb345873",
   "metadata": {},
   "outputs": [
    {
     "data": {
      "text/plain": [
       "array([2.21, 2.  , 4.  , 4.01])"
      ]
     },
     "execution_count": 63,
     "metadata": {},
     "output_type": "execute_result"
    }
   ],
   "source": [
    "sqDistances"
   ]
  },
  {
   "cell_type": "code",
   "execution_count": 64,
   "id": "8564d48f-b569-4a01-ad8f-c655eb09de23",
   "metadata": {},
   "outputs": [],
   "source": [
    "distances = sqDistances ** 0.5"
   ]
  },
  {
   "cell_type": "code",
   "execution_count": 65,
   "id": "907f8413-c00d-4a36-8d2b-190821a3183c",
   "metadata": {},
   "outputs": [
    {
     "data": {
      "text/plain": [
       "array([1.48660687, 1.41421356, 2.        , 2.00249844])"
      ]
     },
     "execution_count": 65,
     "metadata": {},
     "output_type": "execute_result"
    }
   ],
   "source": [
    "distances"
   ]
  },
  {
   "cell_type": "code",
   "execution_count": 66,
   "id": "0df41b12-e5b4-487e-9ed5-fb0984a67f4e",
   "metadata": {},
   "outputs": [],
   "source": [
    "sortedDistIndicies = argsort(distances)"
   ]
  },
  {
   "cell_type": "code",
   "execution_count": 67,
   "id": "a5e326a2-579d-42bf-b8ee-2e268e046cda",
   "metadata": {},
   "outputs": [
    {
     "data": {
      "text/plain": [
       "array([1, 0, 2, 3])"
      ]
     },
     "execution_count": 67,
     "metadata": {},
     "output_type": "execute_result"
    }
   ],
   "source": [
    "sortedDistIndicies"
   ]
  },
  {
   "cell_type": "code",
   "execution_count": 68,
   "id": "bde2cedb-bfba-49e0-942d-ff876586b678",
   "metadata": {},
   "outputs": [
    {
     "data": {
      "text/plain": [
       "array([1.41421356, 1.48660687, 2.        , 2.00249844])"
      ]
     },
     "execution_count": 68,
     "metadata": {},
     "output_type": "execute_result"
    }
   ],
   "source": [
    "distances[sortedDistIndicies]"
   ]
  },
  {
   "cell_type": "code",
   "execution_count": 69,
   "id": "4179b3c9-32cc-4e38-bf00-e8c1c27e017e",
   "metadata": {},
   "outputs": [],
   "source": [
    "classCount = {}\n",
    "for i in range(4):\n",
    "    voteILabel = labels[sortedDistIndicies[i]]\n",
    "    classCount[voteILabel] = classCount.get(voteILabel, 0) + 1"
   ]
  },
  {
   "cell_type": "code",
   "execution_count": 70,
   "id": "e672669b-439f-4eec-ac5d-440b7dbbb03a",
   "metadata": {},
   "outputs": [
    {
     "data": {
      "text/plain": [
       "{'A': 2, 'B': 2}"
      ]
     },
     "execution_count": 70,
     "metadata": {},
     "output_type": "execute_result"
    }
   ],
   "source": [
    "classCount"
   ]
  },
  {
   "cell_type": "code",
   "execution_count": 73,
   "id": "5cf3b1dc-c277-4721-b799-f6510a2587ec",
   "metadata": {},
   "outputs": [],
   "source": [
    "import operator\n",
    "sortedClassCount = sorted(classCount.items(), key=operator.itemgetter(1), reverse=True)"
   ]
  },
  {
   "cell_type": "code",
   "execution_count": 74,
   "id": "5dd811c0-4fb5-450e-9767-ec95f062d0e1",
   "metadata": {},
   "outputs": [
    {
     "data": {
      "text/plain": [
       "[('A', 2), ('B', 2)]"
      ]
     },
     "execution_count": 74,
     "metadata": {},
     "output_type": "execute_result"
    }
   ],
   "source": [
    "sortedClassCount"
   ]
  },
  {
   "cell_type": "code",
   "execution_count": 94,
   "id": "79f4dab5-fbc2-455a-9b40-0e0c68a3d136",
   "metadata": {},
   "outputs": [],
   "source": [
    "def classify0(inX, dataSet, labels, k):\n",
    "    dataSetSize = dataSet.shape[0]\n",
    "    diffMat = tile(inX, (dataSetSize,1)) - dataSet\n",
    "    sqDiffMat = diffMat ** 2\n",
    "    sqDistances = sqDiffMat.sum(axis = 1)\n",
    "    distances = sqDistances ** 0.5\n",
    "    sortedDistIndicies = argsort(distances)\n",
    "    classCount = {}\n",
    "    for i in range(k):\n",
    "        voteILabel = labels[sortedDistIndicies[i]]\n",
    "        classCount[voteILabel] = classCount.get(voteILabel, 0) + 1\n",
    "    import operator\n",
    "    sortedClassCount = sorted(classCount.items(), key=operator.itemgetter(1), reverse=True)\n",
    "    return sortedClassCount[0][0]\n",
    "    "
   ]
  },
  {
   "cell_type": "code",
   "execution_count": 104,
   "id": "97a296a3-c892-4e3b-82ff-d06fe508eec8",
   "metadata": {},
   "outputs": [],
   "source": [
    "dataSet = group\n",
    "r = classify0([1,1],dataSet, labels, 3)"
   ]
  },
  {
   "cell_type": "code",
   "execution_count": 106,
   "id": "491f32f0-4517-4d2c-8670-30d9de4ba8f6",
   "metadata": {},
   "outputs": [
    {
     "data": {
      "text/plain": [
       "[('A', 2), ('B', 1)]"
      ]
     },
     "execution_count": 106,
     "metadata": {},
     "output_type": "execute_result"
    }
   ],
   "source": [
    "r"
   ]
  },
  {
   "cell_type": "code",
   "execution_count": 107,
   "id": "b62fbecc-8e1b-432a-bdc9-3a0817c4d48d",
   "metadata": {},
   "outputs": [
    {
     "data": {
      "text/plain": [
       "'A'"
      ]
     },
     "execution_count": 107,
     "metadata": {},
     "output_type": "execute_result"
    }
   ],
   "source": [
    "r[0][0]"
   ]
  },
  {
   "cell_type": "code",
   "execution_count": 2,
   "id": "05e3fa97-13b6-4d99-be38-ef8c5e71b582",
   "metadata": {},
   "outputs": [],
   "source": [
    "import kNN"
   ]
  },
  {
   "cell_type": "code",
   "execution_count": 4,
   "id": "73499f34-47d7-4526-80f3-380e58336768",
   "metadata": {},
   "outputs": [],
   "source": [
    "dataSet, labels = kNN.createDataSet()"
   ]
  },
  {
   "cell_type": "code",
   "execution_count": 5,
   "id": "d17a7bbd-8179-4d98-a981-31814479a420",
   "metadata": {},
   "outputs": [],
   "source": [
    "r = classify0([1,1],dataSet, labels, 3)"
   ]
  },
  {
   "cell_type": "code",
   "execution_count": 6,
   "id": "caaa022c-7987-4e77-894e-f8c4bf6c4731",
   "metadata": {},
   "outputs": [
    {
     "data": {
      "text/plain": [
       "'A'"
      ]
     },
     "execution_count": 6,
     "metadata": {},
     "output_type": "execute_result"
    }
   ],
   "source": [
    "r"
   ]
  },
  {
   "cell_type": "code",
   "execution_count": 7,
   "id": "d98b7afb-0671-4276-976a-d5c048d1c9ab",
   "metadata": {},
   "outputs": [
    {
     "data": {
      "text/plain": [
       "array([[1. , 1.1],\n",
       "       [1. , 1. ],\n",
       "       [0. , 0. ],\n",
       "       [0. , 0.1]])"
      ]
     },
     "execution_count": 7,
     "metadata": {},
     "output_type": "execute_result"
    }
   ],
   "source": [
    "dataSet"
   ]
  },
  {
   "cell_type": "code",
   "execution_count": 8,
   "id": "ae09a316-af7e-4910-b19e-fdc43df7690e",
   "metadata": {},
   "outputs": [
    {
     "data": {
      "text/plain": [
       "array([0., 0.])"
      ]
     },
     "execution_count": 8,
     "metadata": {},
     "output_type": "execute_result"
    }
   ],
   "source": [
    "dataSet.min(0)"
   ]
  },
  {
   "cell_type": "code",
   "execution_count": 14,
   "id": "80dbcc42-effb-454c-8b70-c0657182b520",
   "metadata": {},
   "outputs": [
    {
     "data": {
      "text/plain": [
       "array([1. , 1.1])"
      ]
     },
     "execution_count": 14,
     "metadata": {},
     "output_type": "execute_result"
    }
   ],
   "source": [
    "dataSet.max(0)"
   ]
  },
  {
   "cell_type": "code",
   "execution_count": null,
   "id": "26affebd-2453-4a07-98d0-adff24ca5621",
   "metadata": {},
   "outputs": [],
   "source": []
  }
 ],
 "metadata": {
  "kernelspec": {
   "display_name": "myenv",
   "language": "python",
   "name": "myenv"
  },
  "language_info": {
   "codemirror_mode": {
    "name": "ipython",
    "version": 3
   },
   "file_extension": ".py",
   "mimetype": "text/x-python",
   "name": "python",
   "nbconvert_exporter": "python",
   "pygments_lexer": "ipython3",
   "version": "3.9.0"
  }
 },
 "nbformat": 4,
 "nbformat_minor": 5
}
