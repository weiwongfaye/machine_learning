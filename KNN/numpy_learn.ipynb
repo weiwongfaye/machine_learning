{
 "cells": [
  {
   "cell_type": "code",
   "execution_count": 1,
   "id": "f92cf685-17d3-40a5-9664-09be3a16ab2f",
   "metadata": {},
   "outputs": [],
   "source": [
    "import numpy as np"
   ]
  },
  {
   "cell_type": "code",
   "execution_count": 7,
   "id": "496c954b-25f9-4f80-81e1-c7030a1084f3",
   "metadata": {},
   "outputs": [],
   "source": [
    "a = np.zeros((5, 5))"
   ]
  },
  {
   "cell_type": "code",
   "execution_count": 16,
   "id": "ed5e4616-b1d3-49dc-b3dc-23563e9b9f00",
   "metadata": {},
   "outputs": [
    {
     "data": {
      "text/plain": [
       "array([[0., 0., 0., 0., 0.],\n",
       "       [0., 1., 1., 1., 0.],\n",
       "       [0., 1., 9., 1., 0.],\n",
       "       [0., 1., 1., 1., 0.],\n",
       "       [0., 0., 0., 0., 0.]])"
      ]
     },
     "execution_count": 16,
     "metadata": {},
     "output_type": "execute_result"
    }
   ],
   "source": [
    "a"
   ]
  },
  {
   "cell_type": "code",
   "execution_count": null,
   "id": "5ed22498-cb55-404f-b4bd-6518123651bd",
   "metadata": {},
   "outputs": [],
   "source": []
  },
  {
   "cell_type": "code",
   "execution_count": 17,
   "id": "9e6ea30a-7315-486c-b964-7534f0f4c8f3",
   "metadata": {},
   "outputs": [],
   "source": [
    "z = np.ones((3,3))\n",
    "z[1,1] = 9\n",
    "a[1:-1, 1:-1] = z"
   ]
  },
  {
   "cell_type": "code",
   "execution_count": 15,
   "id": "6b545728-fae8-41de-a751-380203029a69",
   "metadata": {},
   "outputs": [
    {
     "data": {
      "text/plain": [
       "array([[0., 0., 0., 0., 0.],\n",
       "       [0., 1., 1., 1., 0.],\n",
       "       [0., 1., 9., 1., 0.],\n",
       "       [0., 1., 1., 1., 0.],\n",
       "       [0., 0., 0., 0., 0.]])"
      ]
     },
     "execution_count": 15,
     "metadata": {},
     "output_type": "execute_result"
    }
   ],
   "source": [
    "a"
   ]
  },
  {
   "cell_type": "code",
   "execution_count": 31,
   "id": "bd05cae9-d1b4-4b76-9acf-a3323e4e4de1",
   "metadata": {},
   "outputs": [],
   "source": [
    "A = np.diag((1,2,1,2,1))"
   ]
  },
  {
   "cell_type": "code",
   "execution_count": 32,
   "id": "fe49830f-15c0-4f7c-8c82-5c3e63c82980",
   "metadata": {},
   "outputs": [
    {
     "data": {
      "text/plain": [
       "array([[1, 0, 0, 0, 0],\n",
       "       [0, 2, 0, 0, 0],\n",
       "       [0, 0, 1, 0, 0],\n",
       "       [0, 0, 0, 2, 0],\n",
       "       [0, 0, 0, 0, 1]])"
      ]
     },
     "execution_count": 32,
     "metadata": {},
     "output_type": "execute_result"
    }
   ],
   "source": [
    "A"
   ]
  },
  {
   "cell_type": "code",
   "execution_count": 33,
   "id": "5c9715d9-d149-4aae-a5be-1acfca8bc065",
   "metadata": {},
   "outputs": [
    {
     "data": {
      "text/plain": [
       "array([[1, 0, 0, 0, 0],\n",
       "       [0, 2, 0, 0, 0],\n",
       "       [0, 0, 1, 0, 0],\n",
       "       [0, 0, 0, 2, 0],\n",
       "       [0, 0, 0, 0, 1]])"
      ]
     },
     "execution_count": 33,
     "metadata": {},
     "output_type": "execute_result"
    }
   ],
   "source": [
    "A.T"
   ]
  },
  {
   "cell_type": "code",
   "execution_count": 68,
   "id": "d6da1c70-9e74-4f01-a2e1-12710de415fc",
   "metadata": {},
   "outputs": [],
   "source": [
    "B = np.random.randint(2, 10, size=(4,4))"
   ]
  },
  {
   "cell_type": "code",
   "execution_count": 69,
   "id": "1844c73e-9a6d-477f-8d2b-a12d181e0556",
   "metadata": {},
   "outputs": [
    {
     "data": {
      "text/plain": [
       "array([[4, 9, 4, 5],\n",
       "       [5, 3, 8, 9],\n",
       "       [3, 3, 6, 2],\n",
       "       [7, 6, 8, 8]])"
      ]
     },
     "execution_count": 69,
     "metadata": {},
     "output_type": "execute_result"
    }
   ],
   "source": [
    "B"
   ]
  },
  {
   "cell_type": "code",
   "execution_count": 55,
   "id": "77473a36-2df8-47ae-8fd9-e88d0fda60fa",
   "metadata": {},
   "outputs": [
    {
     "data": {
      "text/plain": [
       "array([6, 8, 8, 3])"
      ]
     },
     "execution_count": 55,
     "metadata": {},
     "output_type": "execute_result"
    }
   ],
   "source": [
    "B[:,0]"
   ]
  },
  {
   "cell_type": "code",
   "execution_count": 58,
   "id": "e554f47e-0d0c-4a66-8600-eb242a21d838",
   "metadata": {},
   "outputs": [
    {
     "data": {
      "text/plain": [
       "array([[9, 8],\n",
       "       [5, 3],\n",
       "       [3, 4],\n",
       "       [7, 8]])"
      ]
     },
     "execution_count": 58,
     "metadata": {},
     "output_type": "execute_result"
    }
   ],
   "source": [
    "B[0:,1:3]"
   ]
  },
  {
   "cell_type": "code",
   "execution_count": 60,
   "id": "82ad2ced-c0d7-4319-912b-3eb82b60ed52",
   "metadata": {},
   "outputs": [
    {
     "data": {
      "text/plain": [
       "array([[1., 0., 0., 0., 0., 0., 0., 0.],\n",
       "       [0., 1., 0., 0., 0., 0., 0., 0.],\n",
       "       [0., 0., 1., 0., 0., 0., 0., 0.],\n",
       "       [0., 0., 0., 1., 0., 0., 0., 0.],\n",
       "       [0., 0., 0., 0., 1., 0., 0., 0.],\n",
       "       [0., 0., 0., 0., 0., 1., 0., 0.],\n",
       "       [0., 0., 0., 0., 0., 0., 1., 0.],\n",
       "       [0., 0., 0., 0., 0., 0., 0., 1.]])"
      ]
     },
     "execution_count": 60,
     "metadata": {},
     "output_type": "execute_result"
    }
   ],
   "source": [
    "np.eye(8)"
   ]
  },
  {
   "cell_type": "code",
   "execution_count": 70,
   "id": "680fe381-9ff7-483b-b5c5-02c6b39a8445",
   "metadata": {},
   "outputs": [
    {
     "data": {
      "text/plain": [
       "467.9999999999998"
      ]
     },
     "execution_count": 70,
     "metadata": {},
     "output_type": "execute_result"
    }
   ],
   "source": [
    "np.linalg.det(B)"
   ]
  },
  {
   "cell_type": "code",
   "execution_count": 71,
   "id": "6250178f-93f7-4f57-b351-6d1f44daa816",
   "metadata": {},
   "outputs": [
    {
     "data": {
      "text/plain": [
       "1.0"
      ]
     },
     "execution_count": 71,
     "metadata": {},
     "output_type": "execute_result"
    }
   ],
   "source": [
    "np.linalg.det(np.eye(8))"
   ]
  },
  {
   "cell_type": "code",
   "execution_count": 79,
   "id": "3a1972f6-5902-444b-9c40-53c0c2aae21b",
   "metadata": {},
   "outputs": [
    {
     "data": {
      "text/plain": [
       "array([[1, 0, 0, 0],\n",
       "       [0, 3, 0, 0],\n",
       "       [0, 0, 2, 0],\n",
       "       [0, 0, 0, 1]])"
      ]
     },
     "execution_count": 79,
     "metadata": {},
     "output_type": "execute_result"
    }
   ],
   "source": [
    "np.diag((1,3,2,1))"
   ]
  },
  {
   "cell_type": "code",
   "execution_count": 80,
   "id": "959c9efd-c864-4fa2-a9cf-3419af072bc2",
   "metadata": {},
   "outputs": [
    {
     "data": {
      "text/plain": [
       "array([[1., 0., 0., 0.],\n",
       "       [0., 1., 0., 0.],\n",
       "       [0., 0., 1., 0.],\n",
       "       [0., 0., 0., 1.]])"
      ]
     },
     "execution_count": 80,
     "metadata": {},
     "output_type": "execute_result"
    }
   ],
   "source": [
    "np.eye(4) "
   ]
  },
  {
   "cell_type": "code",
   "execution_count": 83,
   "id": "6cee6570-0fca-4a9c-97ee-5e5e5fde4e59",
   "metadata": {},
   "outputs": [
    {
     "data": {
      "text/plain": [
       "array([[ True,  True,  True,  True],\n",
       "       [ True,  True,  True,  True],\n",
       "       [ True,  True,  True,  True],\n",
       "       [ True,  True,  True,  True]])"
      ]
     },
     "execution_count": 83,
     "metadata": {},
     "output_type": "execute_result"
    }
   ],
   "source": [
    "np.eye(4) == np.diag((1,1,1,1))"
   ]
  },
  {
   "cell_type": "code",
   "execution_count": 91,
   "id": "6f7b462b-65c9-49d1-8fbd-8a8d5eb818c7",
   "metadata": {},
   "outputs": [],
   "source": [
    "a = np.eye(4) == np.diag((1,1,1,1))"
   ]
  },
  {
   "cell_type": "code",
   "execution_count": 92,
   "id": "71db0aaa-ee56-441f-a29c-257f6fc75054",
   "metadata": {},
   "outputs": [
    {
     "data": {
      "text/plain": [
       "True"
      ]
     },
     "execution_count": 92,
     "metadata": {},
     "output_type": "execute_result"
    }
   ],
   "source": [
    "a.all()"
   ]
  },
  {
   "cell_type": "code",
   "execution_count": 93,
   "id": "242a0d29-b81d-4b54-a638-f3a41453c7fc",
   "metadata": {},
   "outputs": [],
   "source": [
    "z = np.ones((3,3))"
   ]
  },
  {
   "cell_type": "code",
   "execution_count": 94,
   "id": "857ad108-5cf6-43e4-a0dc-d9839d9a3513",
   "metadata": {},
   "outputs": [
    {
     "data": {
      "text/plain": [
       "array([[1., 1., 1.],\n",
       "       [1., 1., 1.],\n",
       "       [1., 1., 1.]])"
      ]
     },
     "execution_count": 94,
     "metadata": {},
     "output_type": "execute_result"
    }
   ],
   "source": [
    "z"
   ]
  },
  {
   "cell_type": "code",
   "execution_count": 95,
   "id": "75a2c508-5b02-49ff-b262-7266431f6db9",
   "metadata": {},
   "outputs": [],
   "source": [
    "y = np.random.randint(2,10,(6,6))"
   ]
  },
  {
   "cell_type": "code",
   "execution_count": 96,
   "id": "10957095-dbe0-4af0-97a4-b97df8358dbc",
   "metadata": {},
   "outputs": [
    {
     "data": {
      "text/plain": [
       "array([[9, 9, 3, 4, 9, 8],\n",
       "       [3, 6, 2, 4, 8, 8],\n",
       "       [5, 5, 9, 3, 9, 7],\n",
       "       [7, 9, 6, 8, 2, 5],\n",
       "       [6, 3, 2, 4, 5, 5],\n",
       "       [5, 4, 7, 4, 3, 4]])"
      ]
     },
     "execution_count": 96,
     "metadata": {},
     "output_type": "execute_result"
    }
   ],
   "source": [
    "y"
   ]
  },
  {
   "cell_type": "code",
   "execution_count": 97,
   "id": "9fd13332-7399-4292-8b91-f9b107880d0b",
   "metadata": {},
   "outputs": [
    {
     "data": {
      "text/plain": [
       "['BitGenerator',\n",
       " 'Generator',\n",
       " 'MT19937',\n",
       " 'PCG64',\n",
       " 'Philox',\n",
       " 'RandomState',\n",
       " 'SFC64',\n",
       " 'SeedSequence',\n",
       " '__RandomState_ctor',\n",
       " '__all__',\n",
       " '__builtins__',\n",
       " '__cached__',\n",
       " '__doc__',\n",
       " '__file__',\n",
       " '__loader__',\n",
       " '__name__',\n",
       " '__package__',\n",
       " '__path__',\n",
       " '__spec__',\n",
       " '_bounded_integers',\n",
       " '_common',\n",
       " '_generator',\n",
       " '_mt19937',\n",
       " '_pcg64',\n",
       " '_philox',\n",
       " '_pickle',\n",
       " '_sfc64',\n",
       " 'beta',\n",
       " 'binomial',\n",
       " 'bit_generator',\n",
       " 'bytes',\n",
       " 'chisquare',\n",
       " 'choice',\n",
       " 'default_rng',\n",
       " 'dirichlet',\n",
       " 'exponential',\n",
       " 'f',\n",
       " 'gamma',\n",
       " 'geometric',\n",
       " 'get_state',\n",
       " 'gumbel',\n",
       " 'hypergeometric',\n",
       " 'laplace',\n",
       " 'logistic',\n",
       " 'lognormal',\n",
       " 'logseries',\n",
       " 'mtrand',\n",
       " 'multinomial',\n",
       " 'multivariate_normal',\n",
       " 'negative_binomial',\n",
       " 'noncentral_chisquare',\n",
       " 'noncentral_f',\n",
       " 'normal',\n",
       " 'pareto',\n",
       " 'permutation',\n",
       " 'poisson',\n",
       " 'power',\n",
       " 'rand',\n",
       " 'randint',\n",
       " 'randn',\n",
       " 'random',\n",
       " 'random_integers',\n",
       " 'random_sample',\n",
       " 'ranf',\n",
       " 'rayleigh',\n",
       " 'sample',\n",
       " 'seed',\n",
       " 'set_state',\n",
       " 'shuffle',\n",
       " 'standard_cauchy',\n",
       " 'standard_exponential',\n",
       " 'standard_gamma',\n",
       " 'standard_normal',\n",
       " 'standard_t',\n",
       " 'test',\n",
       " 'triangular',\n",
       " 'uniform',\n",
       " 'vonmises',\n",
       " 'wald',\n",
       " 'weibull',\n",
       " 'zipf']"
      ]
     },
     "execution_count": 97,
     "metadata": {},
     "output_type": "execute_result"
    }
   ],
   "source": [
    "dir(np.random)"
   ]
  },
  {
   "cell_type": "code",
   "execution_count": 117,
   "id": "7656b910-4406-43f0-b5ce-54cecde420ca",
   "metadata": {},
   "outputs": [
    {
     "data": {
      "text/plain": [
       "array([[[0.5116113 , 0.08424323],\n",
       "        [0.04909098, 0.39739883],\n",
       "        [0.93600896, 0.55068893],\n",
       "        [0.03707175, 0.44891663],\n",
       "        [0.38689992, 0.23093883],\n",
       "        [0.92285222, 0.29578859],\n",
       "        [0.51873654, 0.5503398 ],\n",
       "        [0.88368934, 0.62153575],\n",
       "        [0.15268449, 0.46509946],\n",
       "        [0.42108879, 0.10729682]],\n",
       "\n",
       "       [[0.12254342, 0.21931368],\n",
       "        [0.875392  , 0.79108293],\n",
       "        [0.38254368, 0.60035835],\n",
       "        [0.65625759, 0.55790054],\n",
       "        [0.01712956, 0.7721602 ],\n",
       "        [0.63043385, 0.11608815],\n",
       "        [0.5056988 , 0.86049162],\n",
       "        [0.16889714, 0.95535578],\n",
       "        [0.08540253, 0.41723015],\n",
       "        [0.54532371, 0.80402543]]])"
      ]
     },
     "execution_count": 117,
     "metadata": {},
     "output_type": "execute_result"
    }
   ],
   "source": [
    "np.random.rand(2,10,2)"
   ]
  },
  {
   "cell_type": "code",
   "execution_count": null,
   "id": "f4d034f8-0979-4915-bf27-04fc92568b67",
   "metadata": {},
   "outputs": [],
   "source": []
  }
 ],
 "metadata": {
  "kernelspec": {
   "display_name": "myenv",
   "language": "python",
   "name": "myenv"
  },
  "language_info": {
   "codemirror_mode": {
    "name": "ipython",
    "version": 3
   },
   "file_extension": ".py",
   "mimetype": "text/x-python",
   "name": "python",
   "nbconvert_exporter": "python",
   "pygments_lexer": "ipython3",
   "version": "3.9.0"
  }
 },
 "nbformat": 4,
 "nbformat_minor": 5
}
