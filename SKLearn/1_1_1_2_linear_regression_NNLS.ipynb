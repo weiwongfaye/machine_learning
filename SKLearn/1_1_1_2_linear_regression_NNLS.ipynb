{
 "cells": [
  {
   "cell_type": "code",
   "execution_count": 1,
   "id": "e985fb97-f8a1-4f8a-b6d9-9835e50bd191",
   "metadata": {},
   "outputs": [],
   "source": [
    "# Non-negative least squares"
   ]
  },
  {
   "cell_type": "code",
   "execution_count": 2,
   "id": "d1b1c075-d1f5-4765-a178-bcad9841e48b",
   "metadata": {},
   "outputs": [],
   "source": [
    "import numpy as np\n",
    "import matplotlib.pyplot as plt\n",
    "from sklearn.metrics import r2_score"
   ]
  },
  {
   "cell_type": "code",
   "execution_count": 3,
   "id": "6db320a1-7f9e-4d6b-bc0c-1bbf740a2291",
   "metadata": {},
   "outputs": [],
   "source": [
    "np.random.seed(42)"
   ]
  },
  {
   "cell_type": "code",
   "execution_count": 4,
   "id": "2accfa05-2489-408c-be6e-58031cd5b725",
   "metadata": {},
   "outputs": [],
   "source": [
    "n_samples, n_features = 200, 50\n",
    "X = np.random.randn(n_samples, n_features)"
   ]
  },
  {
   "cell_type": "code",
   "execution_count": 5,
   "id": "0fe4d42c-9f39-480e-a043-f9b6feaf552d",
   "metadata": {},
   "outputs": [
    {
     "data": {
      "text/plain": [
       "(200, 50)"
      ]
     },
     "execution_count": 5,
     "metadata": {},
     "output_type": "execute_result"
    }
   ],
   "source": [
    "X.shape"
   ]
  },
  {
   "cell_type": "code",
   "execution_count": 8,
   "id": "745b48eb-e79a-425a-9080-65bbb3eecc40",
   "metadata": {},
   "outputs": [],
   "source": [
    "true_coef = 3 * np.random.randn(n_features)\n",
    "# Threshold coefficients to render them non-negative\n",
    "true_coef[true_coef < 0] = 0\n",
    "y = np.dot(X, true_coef)\n",
    "\n",
    "# Add some noise\n",
    "y += 5 * np.random.normal(size=(n_samples,))"
   ]
  },
  {
   "cell_type": "code",
   "execution_count": 9,
   "id": "1c539ee0-5c01-4ca0-b753-265ce875220e",
   "metadata": {},
   "outputs": [
    {
     "data": {
      "text/plain": [
       "(200,)"
      ]
     },
     "execution_count": 9,
     "metadata": {},
     "output_type": "execute_result"
    }
   ],
   "source": [
    "y.shape"
   ]
  },
  {
   "cell_type": "code",
   "execution_count": 11,
   "id": "5909e33a-d55b-4c63-8fca-71d8a666d393",
   "metadata": {},
   "outputs": [],
   "source": [
    "# split the train set\n",
    "from sklearn.model_selection import train_test_split\n",
    "\n",
    "X_train, X_test, y_train, y_test = train_test_split(X, y, test_size=0.5)"
   ]
  },
  {
   "cell_type": "code",
   "execution_count": 12,
   "id": "741d9989-f3ff-4dfe-88ba-37441c42c2b4",
   "metadata": {},
   "outputs": [
    {
     "data": {
      "text/plain": [
       "(100, 50)"
      ]
     },
     "execution_count": 12,
     "metadata": {},
     "output_type": "execute_result"
    }
   ],
   "source": [
    "X_train.shape"
   ]
  },
  {
   "cell_type": "code",
   "execution_count": 13,
   "id": "8a50b35e-6a6f-4316-8569-6396089043fa",
   "metadata": {},
   "outputs": [
    {
     "data": {
      "text/plain": [
       "(100, 50)"
      ]
     },
     "execution_count": 13,
     "metadata": {},
     "output_type": "execute_result"
    }
   ],
   "source": [
    "X_test.shape"
   ]
  },
  {
   "cell_type": "code",
   "execution_count": 14,
   "id": "e4ce5941-2441-48c7-87ca-c799e34c02c1",
   "metadata": {},
   "outputs": [
    {
     "name": "stdout",
     "output_type": "stream",
     "text": [
      "NNLS R2 score 0.8308834398297879\n"
     ]
    }
   ],
   "source": [
    "# Fit the Non-Negative least squares.\n",
    "\n",
    "from sklearn.linear_model import LinearRegression\n",
    "\n",
    "reg_nnls = LinearRegression(positive=True)\n",
    "y_pred_nnls = reg_nnls.fit(X_train, y_train).predict(X_test)\n",
    "r2_score_nnls = r2_score(y_test, y_pred_nnls)\n",
    "print(\"NNLS R2 score\", r2_score_nnls)"
   ]
  },
  {
   "cell_type": "code",
   "execution_count": 16,
   "id": "b877a294-1bb4-4279-9c69-fb3f4e52b1c6",
   "metadata": {},
   "outputs": [
    {
     "name": "stdout",
     "output_type": "stream",
     "text": [
      "OLS R2 score 0.8032597616164006\n"
     ]
    }
   ],
   "source": [
    "# Fit an OLS\n",
    "reg_ols = LinearRegression()\n",
    "y_pred_ols = reg_ols.fit(X_train, y_train).predict(X_test)\n",
    "r2_score_ols = r2_score(y_test, y_pred_ols)\n",
    "print(\"OLS R2 score\", r2_score_ols)"
   ]
  },
  {
   "cell_type": "code",
   "execution_count": 17,
   "id": "5eb517ea-586b-4fca-96ee-4dd07bb5a36e",
   "metadata": {},
   "outputs": [
    {
     "data": {
      "text/plain": [
       "Text(0, 0.5, 'NNLS regression coefficients')"
      ]
     },
     "execution_count": 17,
     "metadata": {},
     "output_type": "execute_result"
    },
    {
     "data": {
      "image/png": "[encoded data removed]",
      "text/plain": [
       "<Figure size 432x288 with 1 Axes>"
      ]
     },
     "metadata": {
      "needs_background": "light"
     },
     "output_type": "display_data"
    }
   ],
   "source": [
    "fig, ax = plt.subplots()\n",
    "ax.plot(reg_ols.coef_, reg_nnls.coef_, linewidth=0, marker=\".\")\n",
    "\n",
    "low_x, high_x = ax.get_xlim()\n",
    "low_y, high_y = ax.get_ylim()\n",
    "low = max(low_x, low_y)\n",
    "high = min(high_x, high_y)\n",
    "ax.plot([low, high], [low, high], ls=\"--\", c=\".3\", alpha=0.5)\n",
    "ax.set_xlabel(\"OLS regression coefficients\", fontweight=\"bold\")\n",
    "ax.set_ylabel(\"NNLS regression coefficients\", fontweight=\"bold\")"
   ]
  },
  {
   "cell_type": "code",
   "execution_count": null,
   "id": "91fd352e-1670-472f-b7d0-de370e15d431",
   "metadata": {},
   "outputs": [],
   "source": []
  }
 ],
 "metadata": {
  "kernelspec": {
   "display_name": "myenv",
   "language": "python",
   "name": "myenv"
  },
  "language_info": {
   "codemirror_mode": {
    "name": "ipython",
    "version": 3
   },
   "file_extension": ".py",
   "mimetype": "text/x-python",
   "name": "python",
   "nbconvert_exporter": "python",
   "pygments_lexer": "ipython3",
   "version": "3.9.7"
  }
 },
 "nbformat": 4,
 "nbformat_minor": 5
}
